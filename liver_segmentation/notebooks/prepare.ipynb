{
 "cells": [
  {
   "cell_type": "markdown",
   "metadata": {},
   "source": [
    "### Create groups of 64 slices"
   ]
  },
  {
   "cell_type": "code",
   "execution_count": 16,
   "metadata": {},
   "outputs": [],
   "source": [
    "in_path = \"\"\n",
    "out_path = \"\"\n",
    "\n",
    "input_nifti_file_path = \"\""
   ]
  },
  {
   "cell_type": "code",
   "execution_count": 13,
   "metadata": {},
   "outputs": [],
   "source": [
    "from glob import glob\n",
    "import shutil\n",
    "import os\n",
    "import dicom2nifti\n",
    "import nibabel as nib\n",
    "import numpy as np"
   ]
  },
  {
   "cell_type": "code",
   "execution_count": null,
   "metadata": {},
   "outputs": [],
   "source": [
    "for patient in sorted(glob(in_path + '/')):\n",
    "    patient_name = os.path.basename(os.path.normpath(patient))\n",
    "    number_folders = int(len(os.listdir(patient)) / 64) #int(len(glob(patient + \"/\")))\n",
    "    \n",
    "    for n in range(number_folders):\n",
    "        output_path = os.path.join(out_path, patient_name + \"_\" + str(n))\n",
    "        os.mkdir(output_path)\n",
    "        \n",
    "        for i, file in enumerate(os.listdir(patient)):\n",
    "            if i == 64 + 1:\n",
    "                break\n",
    "            shutil.move(os.path.join(patient, file), output_path)"
   ]
  },
  {
   "cell_type": "markdown",
   "metadata": {},
   "source": [
    "### Convert Dicom files into nifties file"
   ]
  },
  {
   "cell_type": "code",
   "execution_count": 6,
   "metadata": {},
   "outputs": [],
   "source": [
    "in_path_image = \"\"\n",
    "in_path_label = \"\"\n",
    "\n",
    "out_path_images = \"\"\n",
    "out_path_labels = \"\"\n",
    "\n",
    "list_images = sorted(glob(in_path_image))\n",
    "list_labels = sorted(glob(in_path_label))"
   ]
  },
  {
   "cell_type": "code",
   "execution_count": 8,
   "metadata": {},
   "outputs": [],
   "source": [
    "for patient in list_images:\n",
    "    patient_name = os.path.basename(os.path.normpath(patient))\n",
    "    dicom2nifti.dicom_series_to_nifti(patient, os.path.join(out_path_images, patient_name + '.nii.gz'))"
   ]
  },
  {
   "cell_type": "markdown",
   "metadata": {},
   "source": [
    "### Find empty images"
   ]
  },
  {
   "cell_type": "code",
   "execution_count": null,
   "metadata": {},
   "outputs": [],
   "source": [
    "# input_nifti_file_path = \"\"\n",
    "list_labels = glob(input_nifti_file_path)\n",
    "\n",
    "for patient in list_labels:\n",
    "    nifti_file = nib.load(patient)\n",
    "\n",
    "    fdata = nifti_file.get_fdata()\n",
    "    unique = np.unique(fdata)\n",
    "\n",
    "    if len(unique) == 1:\n",
    "        print(patient)"
   ]
  }
 ],
 "metadata": {
  "kernelspec": {
   "display_name": "base",
   "language": "python",
   "name": "python3"
  },
  "language_info": {
   "codemirror_mode": {
    "name": "ipython",
    "version": 3
   },
   "file_extension": ".py",
   "mimetype": "text/x-python",
   "name": "python",
   "nbconvert_exporter": "python",
   "pygments_lexer": "ipython3",
   "version": "3.12.4"
  }
 },
 "nbformat": 4,
 "nbformat_minor": 2
}
